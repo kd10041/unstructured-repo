{
 "cells": [
  {
   "cell_type": "code",
   "execution_count": 2,
   "metadata": {},
   "outputs": [
    {
     "name": "stdout",
     "output_type": "stream",
     "text": [
      "Unique element types in the PDF: {'Table', 'Image', 'Address', 'Title', 'ListItem', 'UncategorizedText', 'FigureCaption', 'NarrativeText'}\n"
     ]
    }
   ],
   "source": [
    "from unstructured.partition.pdf import partition_pdf\n",
    "\n",
    "# Extract elements from PDF\n",
    "elements = partition_pdf(\n",
    "    filename=\"2018_UserManual.pdf\",\n",
    "    strategy=\"hi_res\",\n",
    ")\n",
    "\n",
    "# Convert elements to dictionaries\n",
    "element_dict = [el.to_dict() for el in elements]\n",
    "\n",
    "# Identify unique element types\n",
    "unique_types = set()\n",
    "for item in element_dict:\n",
    "    unique_types.add(item['type'])\n",
    "\n",
    "print(f\"Unique element types in the PDF: {unique_types}\")\n"
   ]
  },
  {
   "cell_type": "code",
   "execution_count": 7,
   "metadata": {},
   "outputs": [
    {
     "name": "stdout",
     "output_type": "stream",
     "text": [
      "Unique element types found: {'Title', 'Address', 'UncategorizedText', 'NarrativeText', 'FigureCaption', 'Image', 'Table', 'ListItem'}\n",
      "Conversion complete. Output saved to output6\\output.md\n"
     ]
    }
   ],
   "source": []
  },
  {
   "cell_type": "code",
   "execution_count": 1,
   "metadata": {},
   "outputs": [
    {
     "name": "stderr",
     "output_type": "stream",
     "text": [
      "c:\\Users\\Hp\\AppData\\Local\\Programs\\Python\\Python312\\Lib\\site-packages\\tqdm\\auto.py:21: TqdmWarning: IProgress not found. Please update jupyter and ipywidgets. See https://ipywidgets.readthedocs.io/en/stable/user_install.html\n",
      "  from .autonotebook import tqdm as notebook_tqdm\n"
     ]
    },
    {
     "name": "stdout",
     "output_type": "stream",
     "text": [
      "Unique element types found: {'UncategorizedText', 'Table', 'FigureCaption', 'Address', 'NarrativeText', 'Title', 'ListItem', 'Image'}\n",
      "Conversion complete. Output saved to output7\\output.md\n"
     ]
    }
   ],
   "source": [
    "import os\n",
    "from unstructured.partition.pdf import partition_pdf\n",
    "import base64\n",
    "import uuid\n",
    "\n",
    "def convert_pdf_to_markdown(pdf_path, output_dir):\n",
    "    # Create output directories\n",
    "    os.makedirs(output_dir, exist_ok=True)\n",
    "    images_dir = os.path.join(output_dir, \"images\")\n",
    "    os.makedirs(images_dir, exist_ok=True)\n",
    "\n",
    "    # Extract elements from PDF with image and table extraction\n",
    "    elements = partition_pdf(\n",
    "        filename=pdf_path,\n",
    "        strategy=\"hi_res\",\n",
    "        extract_images_in_pdf=True,\n",
    "        extract_image_block_types=[\"Image\", \"Table\"],\n",
    "        extract_image_block_to_payload=True,\n",
    "        extract_image_block_output_dir=images_dir\n",
    "    )\n",
    "\n",
    "    # Convert elements to dictionaries\n",
    "    element_dict = [el.to_dict() for el in elements]\n",
    "\n",
    "    # Identify unique element types\n",
    "    unique_types = set(item['type'] for item in element_dict)\n",
    "    print(f\"Unique element types found: {unique_types}\")\n",
    "\n",
    "    markdown_content = []\n",
    "    for element in element_dict:\n",
    "        element_type = element['type']\n",
    "        \n",
    "        if element_type in [\"Table\", \"Image\"]:\n",
    "            # Handle both tables and images as images\n",
    "            if 'metadata' in element and 'image_base64' in element['metadata']:\n",
    "                image_filename = f\"{element_type.lower()}_{uuid.uuid4()}.jpg\"\n",
    "                image_path = os.path.join(images_dir, image_filename)\n",
    "                img_data = base64.b64decode(element['metadata']['image_base64'])\n",
    "                with open(image_path, 'wb') as f:\n",
    "                    f.write(img_data)\n",
    "                markdown_content.append(f\"\\n![{element_type}]({os.path.relpath(image_path, output_dir)})\\n\")\n",
    "            else:\n",
    "                markdown_content.append(f\"\\n[{element_type} data not available]\\n\")\n",
    "        \n",
    "        elif element_type == \"Formula\":\n",
    "            # Handle formulas (you might want to use LaTeX formatting if supported)\n",
    "            markdown_content.append(f\"\\n`{element['text']}`\\n\")\n",
    "        \n",
    "        elif element_type == \"FigureCaption\":\n",
    "            markdown_content.append(f\"\\n*Figure: {element['text']}*\\n\")\n",
    "        \n",
    "        elif element_type in [\"NarrativeText\", \"Address\", \"EmailAddress\", \"UncategorizedText\"]:\n",
    "            # Handle various types of text elements\n",
    "            markdown_content.append(f\"\\n{element['text']}\\n\")\n",
    "        \n",
    "        elif element_type == \"ListItem\":\n",
    "            markdown_content.append(f\"- {element['text']}\\n\")\n",
    "        \n",
    "        elif element_type == \"Title\":\n",
    "            markdown_content.append(f\"\\n# {element['text']}\\n\")\n",
    "        \n",
    "        elif element_type == \"PageBreak\":\n",
    "            markdown_content.append(\"\\n---\\n\")  # Horizontal rule to represent page break\n",
    "        \n",
    "        elif element_type in [\"Header\", \"Footer\"]:\n",
    "            # Add headers and footers as italic text\n",
    "            markdown_content.append(f\"\\n*{element_type}: {element['text']}*\\n\")\n",
    "        \n",
    "        elif element_type == \"CodeSnippet\":\n",
    "            # Format code snippets with backticks\n",
    "            markdown_content.append(f\"\\n```\\n{element['text']}\\n```\\n\")\n",
    "        \n",
    "        elif element_type == \"PageNumber\":\n",
    "            # Add page numbers as bold text\n",
    "            markdown_content.append(f\"\\n**Page {element['text']}**\\n\")\n",
    "        \n",
    "        else:\n",
    "            # Handle any unforeseen element types as plain text\n",
    "            markdown_content.append(f\"\\n{element['text']}\\n\")\n",
    "\n",
    "    # Join all content and write to markdown file\n",
    "    markdown_text = \"\".join(markdown_content)\n",
    "    output_file = os.path.join(output_dir, \"output.md\")\n",
    "    with open(output_file, \"w\", encoding=\"utf-8\") as f:\n",
    "        f.write(markdown_text)\n",
    "\n",
    "    print(f\"Conversion complete. Output saved to {output_file}\")\n",
    "\n",
    "# Usage\n",
    "pdf_path = \"2018_UserManual.pdf\"\n",
    "output_dir = \"output7\"\n",
    "convert_pdf_to_markdown(pdf_path, output_dir)"
   ]
  },
  {
   "cell_type": "code",
   "execution_count": null,
   "metadata": {},
   "outputs": [],
   "source": []
  }
 ],
 "metadata": {
  "kernelspec": {
   "display_name": "Python 3",
   "language": "python",
   "name": "python3"
  },
  "language_info": {
   "codemirror_mode": {
    "name": "ipython",
    "version": 3
   },
   "file_extension": ".py",
   "mimetype": "text/x-python",
   "name": "python",
   "nbconvert_exporter": "python",
   "pygments_lexer": "ipython3",
   "version": "3.12.4"
  }
 },
 "nbformat": 4,
 "nbformat_minor": 2
}
